{
 "cells": [
  {
   "cell_type": "code",
   "execution_count": 17,
   "metadata": {},
   "outputs": [
    {
     "name": "stderr",
     "output_type": "stream",
     "text": [
      "D:\\Anaconda3\\lib\\site-packages\\h5py\\__init__.py:36: FutureWarning: Conversion of the second argument of issubdtype from `float` to `np.floating` is deprecated. In future, it will be treated as `np.float64 == np.dtype(float).type`.\n",
      "  from ._conv import register_converters as _register_converters\n",
      "Using TensorFlow backend.\n"
     ]
    }
   ],
   "source": [
    "import keras\n",
    "import numpy as np\n",
    "import pandas as pd\n",
    "import matplotlib as plt\n",
    "%matplotlib inline\n",
    "from keras.models import Sequential\n",
    "from keras.layers import Dense, Activation, Conv2D"
   ]
  },
  {
   "cell_type": "code",
   "execution_count": 51,
   "metadata": {
    "scrolled": false
   },
   "outputs": [
    {
     "name": "stdout",
     "output_type": "stream",
     "text": [
      "Unique whales: 4251\n",
      "Total number of whale images: 9850\n"
     ]
    }
   ],
   "source": [
    "# Get the labels for the training data\n",
    "training_data = pd.read_csv('train.csv')\n",
    "print(\"Unique whales: \" + str(len(training_data['Id'].unique())))\n",
    "print(\"Total number of whale images: \" + str(len(training_data['Id'])))"
   ]
  },
  {
   "cell_type": "code",
   "execution_count": 52,
   "metadata": {},
   "outputs": [
    {
     "data": {
      "text/plain": [
       "new_whale    810\n",
       "w_1287fbc     34\n",
       "w_98baff9     27\n",
       "w_7554f44     26\n",
       "w_1eafe46     23\n",
       "Name: Id, dtype: int64"
      ]
     },
     "execution_count": 52,
     "metadata": {},
     "output_type": "execute_result"
    }
   ],
   "source": [
    "training_data['Id'].value_counts().head()"
   ]
  },
  {
   "cell_type": "code",
   "execution_count": 54,
   "metadata": {
    "scrolled": true
   },
   "outputs": [
    {
     "data": {
      "text/plain": [
       "w_c9ba30c    1\n",
       "w_4e505cc    1\n",
       "w_e9ac2a8    1\n",
       "w_8e16693    1\n",
       "w_257856f    1\n",
       "w_16d2ae2    1\n",
       "w_38f39ed    1\n",
       "w_b426ff3    1\n",
       "w_2707bcd    1\n",
       "w_7f1f728    1\n",
       "w_7e8fb79    1\n",
       "w_4a4546c    1\n",
       "w_39d2684    1\n",
       "w_15b9665    1\n",
       "w_2b969fe    1\n",
       "w_2b3fe8e    1\n",
       "w_2ef900c    1\n",
       "w_9605bf1    1\n",
       "w_7af28d7    1\n",
       "w_9fd6909    1\n",
       "w_7e253e1    1\n",
       "w_3e75bf3    1\n",
       "w_2687f1b    1\n",
       "w_fe6c1f3    1\n",
       "w_770eb84    1\n",
       "w_da0f481    1\n",
       "w_3090f78    1\n",
       "w_9bf57f8    1\n",
       "w_3aa1da4    1\n",
       "w_d9f1ea6    1\n",
       "            ..\n",
       "w_8d88c82    1\n",
       "w_078b0e7    1\n",
       "w_f50ee01    1\n",
       "w_842623c    1\n",
       "w_d95069e    1\n",
       "w_83cd92b    1\n",
       "w_591db29    1\n",
       "w_680b86e    1\n",
       "w_ad512ec    1\n",
       "w_c429c2a    1\n",
       "w_0f2f6e6    1\n",
       "w_2a6d006    1\n",
       "w_d434526    1\n",
       "w_d3ab153    1\n",
       "w_976a54b    1\n",
       "w_c48ad3e    1\n",
       "w_f9038ed    1\n",
       "w_794effc    1\n",
       "w_74011a2    1\n",
       "w_4c3cd83    1\n",
       "w_6e5b022    1\n",
       "w_63fc906    1\n",
       "w_dff2982    1\n",
       "w_6fa41e8    1\n",
       "w_4c2d259    1\n",
       "w_a1114ee    1\n",
       "w_0e40867    1\n",
       "w_5b3f55f    1\n",
       "w_b8236d6    1\n",
       "w_f334363    1\n",
       "Name: Id, Length: 100, dtype: int64"
      ]
     },
     "execution_count": 54,
     "metadata": {},
     "output_type": "execute_result"
    }
   ],
   "source": [
    "training_data['Id'].value_counts().tail(100)"
   ]
  },
  {
   "cell_type": "code",
   "execution_count": 90,
   "metadata": {
    "scrolled": true
   },
   "outputs": [
    {
     "data": {
      "text/plain": [
       "array(['1323a889.jpg', 'bc75c2d7.jpg'], dtype='<U12')"
      ]
     },
     "execution_count": 90,
     "metadata": {},
     "output_type": "execute_result"
    }
   ],
   "source": [
    "# Need to map all the whales with their pictures\n",
    "whaleIds = training_data.groupby(\"Id\")[\"Image\"].apply(np.hstack)\n",
    "whaleIds['w_002222a']"
   ]
  },
  {
   "cell_type": "code",
   "execution_count": 91,
   "metadata": {},
   "outputs": [
    {
     "ename": "ImportError",
     "evalue": "DLL load failed: The specified module could not be found.",
     "output_type": "error",
     "traceback": [
      "\u001b[1;31m---------------------------------------------------------------------------\u001b[0m",
      "\u001b[1;31mImportError\u001b[0m                               Traceback (most recent call last)",
      "\u001b[1;32m<ipython-input-91-b4f8be4a97be>\u001b[0m in \u001b[0;36m<module>\u001b[1;34m()\u001b[0m\n\u001b[0;32m      2\u001b[0m \u001b[1;32mfrom\u001b[0m \u001b[0mkeras\u001b[0m\u001b[1;33m.\u001b[0m\u001b[0mbackend\u001b[0m \u001b[1;32mimport\u001b[0m \u001b[0mtf\u001b[0m \u001b[1;32mas\u001b[0m \u001b[0mktf\u001b[0m\u001b[1;33m\u001b[0m\u001b[0m\n\u001b[0;32m      3\u001b[0m \u001b[1;32mimport\u001b[0m \u001b[0mos\u001b[0m\u001b[1;33m\u001b[0m\u001b[0m\n\u001b[1;32m----> 4\u001b[1;33m \u001b[1;32mfrom\u001b[0m \u001b[0mPIL\u001b[0m \u001b[1;32mimport\u001b[0m \u001b[0mImage\u001b[0m\u001b[1;33m\u001b[0m\u001b[0m\n\u001b[0m\u001b[0;32m      5\u001b[0m \u001b[1;32mfrom\u001b[0m \u001b[0mmatplotlib\u001b[0m \u001b[1;32mimport\u001b[0m \u001b[0mpyplot\u001b[0m \u001b[1;32mas\u001b[0m \u001b[0mplt\u001b[0m\u001b[1;33m\u001b[0m\u001b[0m\n\u001b[0;32m      6\u001b[0m \u001b[1;32mimport\u001b[0m \u001b[0mcopy\u001b[0m\u001b[1;33m\u001b[0m\u001b[0m\n",
      "\u001b[1;32mD:\\Anaconda3\\lib\\site-packages\\PIL\\Image.py\u001b[0m in \u001b[0;36m<module>\u001b[1;34m()\u001b[0m\n\u001b[0;32m     58\u001b[0m     \u001b[1;31m# Also note that Image.core is not a publicly documented interface,\u001b[0m\u001b[1;33m\u001b[0m\u001b[1;33m\u001b[0m\u001b[0m\n\u001b[0;32m     59\u001b[0m     \u001b[1;31m# and should be considered private and subject to change.\u001b[0m\u001b[1;33m\u001b[0m\u001b[1;33m\u001b[0m\u001b[0m\n\u001b[1;32m---> 60\u001b[1;33m     \u001b[1;32mfrom\u001b[0m \u001b[1;33m.\u001b[0m \u001b[1;32mimport\u001b[0m \u001b[0m_imaging\u001b[0m \u001b[1;32mas\u001b[0m \u001b[0mcore\u001b[0m\u001b[1;33m\u001b[0m\u001b[0m\n\u001b[0m\u001b[0;32m     61\u001b[0m     \u001b[1;32mif\u001b[0m \u001b[0mPILLOW_VERSION\u001b[0m \u001b[1;33m!=\u001b[0m \u001b[0mgetattr\u001b[0m\u001b[1;33m(\u001b[0m\u001b[0mcore\u001b[0m\u001b[1;33m,\u001b[0m \u001b[1;34m'PILLOW_VERSION'\u001b[0m\u001b[1;33m,\u001b[0m \u001b[1;32mNone\u001b[0m\u001b[1;33m)\u001b[0m\u001b[1;33m:\u001b[0m\u001b[1;33m\u001b[0m\u001b[0m\n\u001b[0;32m     62\u001b[0m         raise ImportError(\"The _imaging extension was built for another \"\n",
      "\u001b[1;31mImportError\u001b[0m: DLL load failed: The specified module could not be found."
     ]
    }
   ],
   "source": [
    "import keras.preprocessing.image as kim\n",
    "from keras.backend import tf as ktf\n",
    "import os\n",
    "from PIL import Image\n",
    "from matplotlib import pyplot as plt\n",
    "import copy"
   ]
  },
  {
   "cell_type": "code",
   "execution_count": 43,
   "metadata": {
    "scrolled": true
   },
   "outputs": [
    {
     "name": "stdout",
     "output_type": "stream",
     "text": [
      "[]\n"
     ]
    }
   ],
   "source": [
    "print(images)"
   ]
  }
 ],
 "metadata": {
  "kernelspec": {
   "display_name": "Python 3",
   "language": "python",
   "name": "python3"
  },
  "language_info": {
   "codemirror_mode": {
    "name": "ipython",
    "version": 3
   },
   "file_extension": ".py",
   "mimetype": "text/x-python",
   "name": "python",
   "nbconvert_exporter": "python",
   "pygments_lexer": "ipython3",
   "version": "3.6.5"
  }
 },
 "nbformat": 4,
 "nbformat_minor": 2
}
